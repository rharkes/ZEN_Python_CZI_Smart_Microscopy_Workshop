{
 "cells": [
  {
   "cell_type": "code",
   "execution_count": 1,
   "id": "a800576d-4b58-4a6f-8ee0-1d3a8a701941",
   "metadata": {},
   "outputs": [],
   "source": [
    "import os\n",
    "from czmodel.pytorch.convert import DefaultConverter\n",
    "import tempfile\n",
    "import onnxruntime as onnx_rt\n",
    "from pathlib import Path"
   ]
  },
  {
   "cell_type": "code",
   "execution_count": 2,
   "id": "c36de0c4-3492-4b02-9614-af2924f7aca5",
   "metadata": {},
   "outputs": [],
   "source": [
    "#model_path = \"model.czann\"\n",
    "model_path = \"cyto2022_nuc2.czann\""
   ]
  },
  {
   "cell_type": "code",
   "execution_count": 3,
   "id": "a23acebe-158a-4f44-a025-c390890b30c3",
   "metadata": {},
   "outputs": [
    {
     "name": "stdout",
     "output_type": "stream",
     "text": [
      "model_type = ModelType.SINGLE_CLASS_SEMANTIC_SEGMENTATION\n",
      "input_shape = [1024, 1024, 1]\n",
      "output_shape = [1024, 1024, 2]\n",
      "model_id = 30c3f719-a7ac-41a3-9204-b6a026ea5b5a\n",
      "min_overlap = [128, 128]\n",
      "classes = ['background', 'nuc']\n",
      "model_name = APEER-trained model\n",
      "scaling = None\n"
     ]
    }
   ],
   "source": [
    "# extract the model information and path and to the prediction\n",
    "with tempfile.TemporaryDirectory() as temp_path:\n",
    "\n",
    "    # get the model metadata and the path\n",
    "    model_metadata, model_path = DefaultConverter().unpack_model(model_file=model_path,\n",
    "                                                                 target_dir=Path(temp_path))\n",
    "\n",
    "    # get model metadata as dictionary\n",
    "    model_metadata_dict = model_metadata._asdict()\n",
    "    for k,v in model_metadata_dict.items():\n",
    "        print(k, \"=\", v)"
   ]
  },
  {
   "cell_type": "code",
   "execution_count": null,
   "id": "e194317b-5f9e-408f-9a9d-81a47eb727ce",
   "metadata": {},
   "outputs": [],
   "source": []
  }
 ],
 "metadata": {
  "kernelspec": {
   "display_name": "Python [conda env:czannseg]",
   "language": "python",
   "name": "conda-env-czannseg-py"
  },
  "language_info": {
   "codemirror_mode": {
    "name": "ipython",
    "version": 3
   },
   "file_extension": ".py",
   "mimetype": "text/x-python",
   "name": "python",
   "nbconvert_exporter": "python",
   "pygments_lexer": "ipython3",
   "version": "3.11.5"
  }
 },
 "nbformat": 4,
 "nbformat_minor": 5
}
