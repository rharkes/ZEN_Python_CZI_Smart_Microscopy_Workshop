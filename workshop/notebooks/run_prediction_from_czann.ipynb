{
    "cells": [
        {
            "cell_type": "markdown",
            "metadata": {},
            "source": [
                "## Important\n",
                "\n",
                "**Please use Colab Runtime Version 25.07 --> Python 3.11.13**\n",
                "\n",
                "## Disclaimer\n",
                "\n",
                "This content of this repository is free to use for everybody. Carl Zeiss Microscopy GmbH's ZEN software undertakes no warranty concerning the use of those scripts, image analysis settings and ZEN experiments. Use them on your own risk.\n",
                "\n",
                "**By using any of those examples you agree to this disclaimer.**"
            ]
        },
        {
            "cell_type": "code",
            "execution_count": 6,
            "metadata": {
                "id": "TxWWeDCBjpea"
            },
            "outputs": [],
            "source": [
                "try:\n",
                "  import google.colab\n",
                "  IN_COLAB = True\n",
                "except:\n",
                "  IN_COLAB = False"
            ]
        },
        {
            "cell_type": "code",
            "execution_count": 4,
            "metadata": {
                "colab": {
                    "base_uri": "https://localhost:8080/"
                },
                "id": "PJ5ytvOx-eF1",
                "outputId": "736e1524-1436-4a65-b9fe-31044cbded6f"
            },
            "outputs": [
                {
                    "output_type": "stream",
                    "name": "stdout",
                    "text": [
                        "Requirement already satisfied: pip in /usr/local/lib/python3.12/dist-packages (25.2)\n",
                        "Requirement already satisfied: scikit-image in /usr/local/lib/python3.12/dist-packages (0.25.2)\n",
                        "Requirement already satisfied: xmltodict in /usr/local/lib/python3.12/dist-packages (1.0.2)\n",
                        "Requirement already satisfied: numpy>=1.24 in /usr/local/lib/python3.12/dist-packages (from scikit-image) (2.0.2)\n",
                        "Requirement already satisfied: scipy>=1.11.4 in /usr/local/lib/python3.12/dist-packages (from scikit-image) (1.16.2)\n",
                        "Requirement already satisfied: networkx>=3.0 in /usr/local/lib/python3.12/dist-packages (from scikit-image) (3.5)\n",
                        "Requirement already satisfied: pillow>=10.1 in /usr/local/lib/python3.12/dist-packages (from scikit-image) (11.3.0)\n",
                        "Requirement already satisfied: imageio!=2.35.0,>=2.33 in /usr/local/lib/python3.12/dist-packages (from scikit-image) (2.37.0)\n",
                        "Requirement already satisfied: tifffile>=2022.8.12 in /usr/local/lib/python3.12/dist-packages (from scikit-image) (2025.9.30)\n",
                        "Requirement already satisfied: packaging>=21 in /usr/local/lib/python3.12/dist-packages (from scikit-image) (25.0)\n",
                        "Requirement already satisfied: lazy-loader>=0.4 in /usr/local/lib/python3.12/dist-packages (from scikit-image) (0.4)\n",
                        "Requirement already satisfied: onnxruntime in /usr/local/lib/python3.12/dist-packages (1.23.1)\n",
                        "Requirement already satisfied: coloredlogs in /usr/local/lib/python3.12/dist-packages (from onnxruntime) (15.0.1)\n",
                        "Requirement already satisfied: flatbuffers in /usr/local/lib/python3.12/dist-packages (from onnxruntime) (25.9.23)\n",
                        "Requirement already satisfied: numpy>=1.21.6 in /usr/local/lib/python3.12/dist-packages (from onnxruntime) (2.0.2)\n",
                        "Requirement already satisfied: packaging in /usr/local/lib/python3.12/dist-packages (from onnxruntime) (25.0)\n",
                        "Requirement already satisfied: protobuf in /usr/local/lib/python3.12/dist-packages (from onnxruntime) (5.29.5)\n",
                        "Requirement already satisfied: sympy in /usr/local/lib/python3.12/dist-packages (from onnxruntime) (1.13.3)\n",
                        "Requirement already satisfied: humanfriendly>=9.1 in /usr/local/lib/python3.12/dist-packages (from coloredlogs->onnxruntime) (10.0)\n",
                        "Requirement already satisfied: mpmath<1.4,>=1.1.0 in /usr/local/lib/python3.12/dist-packages (from sympy->onnxruntime) (1.3.0)\n",
                        "Requirement already satisfied: czmodel[pytorch] in /usr/local/lib/python3.12/dist-packages (3.0.0)\n",
                        "\u001b[33mWARNING: czmodel 3.0.0 does not provide the extra 'pytorch'\u001b[0m\u001b[33m\n",
                        "\u001b[0mRequirement already satisfied: tensorflow!=2.1,<3,>=2 in /usr/local/lib/python3.12/dist-packages (from czmodel[pytorch]) (2.19.0)\n",
                        "Requirement already satisfied: onnx in /usr/local/lib/python3.12/dist-packages (from czmodel[pytorch]) (1.19.1)\n",
                        "Requirement already satisfied: tf2onnx in /usr/local/lib/python3.12/dist-packages (from czmodel[pytorch]) (1.8.4)\n",
                        "Requirement already satisfied: absl-py>=1.0.0 in /usr/local/lib/python3.12/dist-packages (from tensorflow!=2.1,<3,>=2->czmodel[pytorch]) (1.4.0)\n",
                        "Requirement already satisfied: astunparse>=1.6.0 in /usr/local/lib/python3.12/dist-packages (from tensorflow!=2.1,<3,>=2->czmodel[pytorch]) (1.6.3)\n",
                        "Requirement already satisfied: flatbuffers>=24.3.25 in /usr/local/lib/python3.12/dist-packages (from tensorflow!=2.1,<3,>=2->czmodel[pytorch]) (25.9.23)\n",
                        "Requirement already satisfied: gast!=0.5.0,!=0.5.1,!=0.5.2,>=0.2.1 in /usr/local/lib/python3.12/dist-packages (from tensorflow!=2.1,<3,>=2->czmodel[pytorch]) (0.6.0)\n",
                        "Requirement already satisfied: google-pasta>=0.1.1 in /usr/local/lib/python3.12/dist-packages (from tensorflow!=2.1,<3,>=2->czmodel[pytorch]) (0.2.0)\n",
                        "Requirement already satisfied: libclang>=13.0.0 in /usr/local/lib/python3.12/dist-packages (from tensorflow!=2.1,<3,>=2->czmodel[pytorch]) (18.1.1)\n",
                        "Requirement already satisfied: opt-einsum>=2.3.2 in /usr/local/lib/python3.12/dist-packages (from tensorflow!=2.1,<3,>=2->czmodel[pytorch]) (3.4.0)\n",
                        "Requirement already satisfied: packaging in /usr/local/lib/python3.12/dist-packages (from tensorflow!=2.1,<3,>=2->czmodel[pytorch]) (25.0)\n",
                        "Requirement already satisfied: protobuf!=4.21.0,!=4.21.1,!=4.21.2,!=4.21.3,!=4.21.4,!=4.21.5,<6.0.0dev,>=3.20.3 in /usr/local/lib/python3.12/dist-packages (from tensorflow!=2.1,<3,>=2->czmodel[pytorch]) (5.29.5)\n",
                        "Requirement already satisfied: requests<3,>=2.21.0 in /usr/local/lib/python3.12/dist-packages (from tensorflow!=2.1,<3,>=2->czmodel[pytorch]) (2.32.4)\n",
                        "Requirement already satisfied: setuptools in /usr/local/lib/python3.12/dist-packages (from tensorflow!=2.1,<3,>=2->czmodel[pytorch]) (75.2.0)\n",
                        "Requirement already satisfied: six>=1.12.0 in /usr/local/lib/python3.12/dist-packages (from tensorflow!=2.1,<3,>=2->czmodel[pytorch]) (1.17.0)\n",
                        "Requirement already satisfied: termcolor>=1.1.0 in /usr/local/lib/python3.12/dist-packages (from tensorflow!=2.1,<3,>=2->czmodel[pytorch]) (3.1.0)\n",
                        "Requirement already satisfied: typing-extensions>=3.6.6 in /usr/local/lib/python3.12/dist-packages (from tensorflow!=2.1,<3,>=2->czmodel[pytorch]) (4.15.0)\n",
                        "Requirement already satisfied: wrapt>=1.11.0 in /usr/local/lib/python3.12/dist-packages (from tensorflow!=2.1,<3,>=2->czmodel[pytorch]) (1.17.3)\n",
                        "Requirement already satisfied: grpcio<2.0,>=1.24.3 in /usr/local/lib/python3.12/dist-packages (from tensorflow!=2.1,<3,>=2->czmodel[pytorch]) (1.75.1)\n",
                        "Requirement already satisfied: tensorboard~=2.19.0 in /usr/local/lib/python3.12/dist-packages (from tensorflow!=2.1,<3,>=2->czmodel[pytorch]) (2.19.0)\n",
                        "Requirement already satisfied: keras>=3.5.0 in /usr/local/lib/python3.12/dist-packages (from tensorflow!=2.1,<3,>=2->czmodel[pytorch]) (3.10.0)\n",
                        "Requirement already satisfied: numpy<2.2.0,>=1.26.0 in /usr/local/lib/python3.12/dist-packages (from tensorflow!=2.1,<3,>=2->czmodel[pytorch]) (2.0.2)\n",
                        "Requirement already satisfied: h5py>=3.11.0 in /usr/local/lib/python3.12/dist-packages (from tensorflow!=2.1,<3,>=2->czmodel[pytorch]) (3.14.0)\n",
                        "Requirement already satisfied: ml-dtypes<1.0.0,>=0.5.1 in /usr/local/lib/python3.12/dist-packages (from tensorflow!=2.1,<3,>=2->czmodel[pytorch]) (0.5.3)\n",
                        "Requirement already satisfied: charset_normalizer<4,>=2 in /usr/local/lib/python3.12/dist-packages (from requests<3,>=2.21.0->tensorflow!=2.1,<3,>=2->czmodel[pytorch]) (3.4.3)\n",
                        "Requirement already satisfied: idna<4,>=2.5 in /usr/local/lib/python3.12/dist-packages (from requests<3,>=2.21.0->tensorflow!=2.1,<3,>=2->czmodel[pytorch]) (3.10)\n",
                        "Requirement already satisfied: urllib3<3,>=1.21.1 in /usr/local/lib/python3.12/dist-packages (from requests<3,>=2.21.0->tensorflow!=2.1,<3,>=2->czmodel[pytorch]) (2.5.0)\n",
                        "Requirement already satisfied: certifi>=2017.4.17 in /usr/local/lib/python3.12/dist-packages (from requests<3,>=2.21.0->tensorflow!=2.1,<3,>=2->czmodel[pytorch]) (2025.8.3)\n",
                        "Requirement already satisfied: markdown>=2.6.8 in /usr/local/lib/python3.12/dist-packages (from tensorboard~=2.19.0->tensorflow!=2.1,<3,>=2->czmodel[pytorch]) (3.9)\n",
                        "Requirement already satisfied: tensorboard-data-server<0.8.0,>=0.7.0 in /usr/local/lib/python3.12/dist-packages (from tensorboard~=2.19.0->tensorflow!=2.1,<3,>=2->czmodel[pytorch]) (0.7.2)\n",
                        "Requirement already satisfied: werkzeug>=1.0.1 in /usr/local/lib/python3.12/dist-packages (from tensorboard~=2.19.0->tensorflow!=2.1,<3,>=2->czmodel[pytorch]) (3.1.3)\n",
                        "Requirement already satisfied: wheel<1.0,>=0.23.0 in /usr/local/lib/python3.12/dist-packages (from astunparse>=1.6.0->tensorflow!=2.1,<3,>=2->czmodel[pytorch]) (0.45.1)\n",
                        "Requirement already satisfied: rich in /usr/local/lib/python3.12/dist-packages (from keras>=3.5.0->tensorflow!=2.1,<3,>=2->czmodel[pytorch]) (13.9.4)\n",
                        "Requirement already satisfied: namex in /usr/local/lib/python3.12/dist-packages (from keras>=3.5.0->tensorflow!=2.1,<3,>=2->czmodel[pytorch]) (0.1.0)\n",
                        "Requirement already satisfied: optree in /usr/local/lib/python3.12/dist-packages (from keras>=3.5.0->tensorflow!=2.1,<3,>=2->czmodel[pytorch]) (0.17.0)\n",
                        "Requirement already satisfied: MarkupSafe>=2.1.1 in /usr/local/lib/python3.12/dist-packages (from werkzeug>=1.0.1->tensorboard~=2.19.0->tensorflow!=2.1,<3,>=2->czmodel[pytorch]) (3.0.3)\n",
                        "Requirement already satisfied: markdown-it-py>=2.2.0 in /usr/local/lib/python3.12/dist-packages (from rich->keras>=3.5.0->tensorflow!=2.1,<3,>=2->czmodel[pytorch]) (4.0.0)\n",
                        "Requirement already satisfied: pygments<3.0.0,>=2.13.0 in /usr/local/lib/python3.12/dist-packages (from rich->keras>=3.5.0->tensorflow!=2.1,<3,>=2->czmodel[pytorch]) (2.19.2)\n",
                        "Requirement already satisfied: mdurl~=0.1 in /usr/local/lib/python3.12/dist-packages (from markdown-it-py>=2.2.0->rich->keras>=3.5.0->tensorflow!=2.1,<3,>=2->czmodel[pytorch]) (0.1.2)\n"
                    ]
                }
            ],
            "source": [
                "if IN_COLAB:\n",
                "    # Install czmodel and dependencies\n",
                "\n",
                "    ! pip install --upgrade pip\n",
                "    ! pip install scikit-image xmltodict\n",
                "    ! pip install onnxruntime\n",
                "    ! pip install czmodel[pytorch]==5.1.0==5.1.0\n",
                "    ! pip install numpy>2"
            ]
        },
        {
            "cell_type": "markdown",
            "metadata": {
                "id": "KKcF0g-ejped"
            },
            "source": [
                "## Disclaimer\n",
                "\n",
                "This content of this repository is free to use for everybody. Carl Zeiss Microscopy GmbH's ZEN software undertakes no warranty concerning the use of those scripts, image analysis settings and ZEN experiments. Use them on your own risk.\n",
                "\n",
                "**By using any of those examples you agree to this disclaimer.**"
            ]
        },
        {
            "cell_type": "code",
            "execution_count": 5,
            "metadata": {
                "id": "6ACuw3aI_lCD",
                "outputId": "02501430-1c85-4b4c-abbb-b20e1c414e01",
                "colab": {
                    "base_uri": "https://localhost:8080/",
                    "height": 463
                }
            },
            "outputs": [
                {
                    "output_type": "stream",
                    "name": "stderr",
                    "text": [
                        "/usr/local/lib/python3.12/dist-packages/tf2onnx/utils.py:49: FutureWarning: In the future `np.object` will be defined as the corresponding NumPy scalar.\n",
                        "  onnx_pb.TensorProto.STRING: np.object,\n"
                    ]
                },
                {
                    "output_type": "error",
                    "ename": "AttributeError",
                    "evalue": "module 'numpy' has no attribute 'object'.\n`np.object` was a deprecated alias for the builtin `object`. To avoid this error in existing code, use `object` by itself. Doing this will not modify any behavior and is safe. \nThe aliases was originally deprecated in NumPy 1.20; for more details and guidance see the original release note at:\n    https://numpy.org/devdocs/release/1.20.0-notes.html#deprecations",
                    "traceback": [
                        "\u001b[0;31m---------------------------------------------------------------------------\u001b[0m",
                        "\u001b[0;31mAttributeError\u001b[0m                            Traceback (most recent call last)",
                        "\u001b[0;32m/tmp/ipython-input-1971717864.py\u001b[0m in \u001b[0;36m<cell line: 0>\u001b[0;34m()\u001b[0m\n\u001b[1;32m      2\u001b[0m \u001b[0;32mimport\u001b[0m \u001b[0mnumpy\u001b[0m \u001b[0;32mas\u001b[0m \u001b[0mnp\u001b[0m\u001b[0;34m\u001b[0m\u001b[0;34m\u001b[0m\u001b[0m\n\u001b[1;32m      3\u001b[0m \u001b[0;32mimport\u001b[0m \u001b[0mmatplotlib\u001b[0m\u001b[0;34m.\u001b[0m\u001b[0mpyplot\u001b[0m \u001b[0;32mas\u001b[0m \u001b[0mplt\u001b[0m\u001b[0;34m\u001b[0m\u001b[0;34m\u001b[0m\u001b[0m\n\u001b[0;32m----> 4\u001b[0;31m \u001b[0;32mfrom\u001b[0m \u001b[0mczmodel\u001b[0m\u001b[0;34m.\u001b[0m\u001b[0mpytorch\u001b[0m\u001b[0;34m.\u001b[0m\u001b[0mconvert\u001b[0m \u001b[0;32mimport\u001b[0m \u001b[0mDefaultConverter\u001b[0m\u001b[0;34m\u001b[0m\u001b[0;34m\u001b[0m\u001b[0m\n\u001b[0m\u001b[1;32m      5\u001b[0m \u001b[0;32mimport\u001b[0m \u001b[0mtempfile\u001b[0m\u001b[0;34m\u001b[0m\u001b[0;34m\u001b[0m\u001b[0m\n\u001b[1;32m      6\u001b[0m \u001b[0;32mfrom\u001b[0m \u001b[0mpathlib\u001b[0m \u001b[0;32mimport\u001b[0m \u001b[0mPath\u001b[0m\u001b[0;34m\u001b[0m\u001b[0;34m\u001b[0m\u001b[0m\n",
                        "\u001b[0;32m/usr/local/lib/python3.12/dist-packages/czmodel/__init__.py\u001b[0m in \u001b[0;36m<module>\u001b[0;34m\u001b[0m\n\u001b[1;32m      1\u001b[0m \u001b[0;34m\"\"\"Provides conversion functions to create a CZANN from exported TF models and corresponding meta data.\"\"\"\u001b[0m\u001b[0;34m\u001b[0m\u001b[0;34m\u001b[0m\u001b[0m\n\u001b[0;32m----> 2\u001b[0;31m \u001b[0;32mfrom\u001b[0m \u001b[0;34m.\u001b[0m\u001b[0mconvert\u001b[0m \u001b[0;32mimport\u001b[0m \u001b[0mDefaultConverter\u001b[0m\u001b[0;34m,\u001b[0m \u001b[0mLegacyConverter\u001b[0m\u001b[0;34m\u001b[0m\u001b[0;34m\u001b[0m\u001b[0m\n\u001b[0m\u001b[1;32m      3\u001b[0m \u001b[0;32mfrom\u001b[0m \u001b[0;34m.\u001b[0m\u001b[0mmodel_metadata\u001b[0m \u001b[0;32mimport\u001b[0m \u001b[0mModelSpec\u001b[0m\u001b[0;34m,\u001b[0m \u001b[0mModelMetadata\u001b[0m\u001b[0;34m\u001b[0m\u001b[0;34m\u001b[0m\u001b[0m\n\u001b[1;32m      4\u001b[0m from .legacy_model_metadata import (\n\u001b[1;32m      5\u001b[0m     \u001b[0mModelSpec\u001b[0m \u001b[0;32mas\u001b[0m \u001b[0mLegacyModelSpec\u001b[0m\u001b[0;34m,\u001b[0m\u001b[0;34m\u001b[0m\u001b[0;34m\u001b[0m\u001b[0m\n",
                        "\u001b[0;32m/usr/local/lib/python3.12/dist-packages/czmodel/convert.py\u001b[0m in \u001b[0;36m<module>\u001b[0;34m\u001b[0m\n\u001b[1;32m     36\u001b[0m     \u001b[0mModelMetadata\u001b[0m \u001b[0;32mas\u001b[0m \u001b[0mLegacyModelMetadata\u001b[0m\u001b[0;34m,\u001b[0m\u001b[0;34m\u001b[0m\u001b[0;34m\u001b[0m\u001b[0m\n\u001b[1;32m     37\u001b[0m )\n\u001b[0;32m---> 38\u001b[0;31m \u001b[0;32mfrom\u001b[0m \u001b[0mczmodel\u001b[0m\u001b[0;34m.\u001b[0m\u001b[0mutil\u001b[0m \u001b[0;32mimport\u001b[0m \u001b[0mkeras_export\u001b[0m\u001b[0;34m\u001b[0m\u001b[0;34m\u001b[0m\u001b[0m\n\u001b[0m\u001b[1;32m     39\u001b[0m \u001b[0;32mfrom\u001b[0m \u001b[0mczmodel\u001b[0m\u001b[0;34m.\u001b[0m\u001b[0mutil\u001b[0m\u001b[0;34m.\u001b[0m\u001b[0margument_parsing\u001b[0m \u001b[0;32mimport\u001b[0m \u001b[0mdir_file\u001b[0m\u001b[0;34m\u001b[0m\u001b[0;34m\u001b[0m\u001b[0m\n\u001b[1;32m     40\u001b[0m \u001b[0;34m\u001b[0m\u001b[0m\n",
                        "\u001b[0;32m/usr/local/lib/python3.12/dist-packages/czmodel/util/keras_export.py\u001b[0m in \u001b[0;36m<module>\u001b[0;34m\u001b[0m\n\u001b[1;32m     33\u001b[0m \u001b[0;32mimport\u001b[0m \u001b[0monnx\u001b[0m\u001b[0;34m\u001b[0m\u001b[0;34m\u001b[0m\u001b[0m\n\u001b[1;32m     34\u001b[0m \u001b[0;32mimport\u001b[0m \u001b[0mtensorflow\u001b[0m \u001b[0;32mas\u001b[0m \u001b[0mtf\u001b[0m\u001b[0;34m\u001b[0m\u001b[0;34m\u001b[0m\u001b[0m\n\u001b[0;32m---> 35\u001b[0;31m \u001b[0;32mfrom\u001b[0m \u001b[0mtf2onnx\u001b[0m \u001b[0;32mimport\u001b[0m \u001b[0mtf_loader\u001b[0m\u001b[0;34m,\u001b[0m \u001b[0mutils\u001b[0m\u001b[0;34m,\u001b[0m \u001b[0moptimizer\u001b[0m\u001b[0;34m\u001b[0m\u001b[0;34m\u001b[0m\u001b[0m\n\u001b[0m\u001b[1;32m     36\u001b[0m \u001b[0;32mfrom\u001b[0m \u001b[0mtf2onnx\u001b[0m\u001b[0;34m.\u001b[0m\u001b[0mtfonnx\u001b[0m \u001b[0;32mimport\u001b[0m \u001b[0mprocess_tf_graph\u001b[0m\u001b[0;34m\u001b[0m\u001b[0;34m\u001b[0m\u001b[0m\n\u001b[1;32m     37\u001b[0m \u001b[0;34m\u001b[0m\u001b[0m\n",
                        "\u001b[0;32m/usr/local/lib/python3.12/dist-packages/tf2onnx/__init__.py\u001b[0m in \u001b[0;36m<module>\u001b[0;34m\u001b[0m\n\u001b[1;32m     13\u001b[0m \u001b[0;32mfrom\u001b[0m \u001b[0;34m.\u001b[0m\u001b[0mversion\u001b[0m \u001b[0;32mimport\u001b[0m \u001b[0mversion\u001b[0m \u001b[0;32mas\u001b[0m \u001b[0m__version__\u001b[0m\u001b[0;34m\u001b[0m\u001b[0;34m\u001b[0m\u001b[0m\n\u001b[1;32m     14\u001b[0m \u001b[0;32mfrom\u001b[0m \u001b[0;34m.\u001b[0m \u001b[0;32mimport\u001b[0m \u001b[0mverbose_logging\u001b[0m \u001b[0;32mas\u001b[0m \u001b[0mlogging\u001b[0m\u001b[0;34m\u001b[0m\u001b[0;34m\u001b[0m\u001b[0m\n\u001b[0;32m---> 15\u001b[0;31m \u001b[0;32mfrom\u001b[0m \u001b[0mtf2onnx\u001b[0m \u001b[0;32mimport\u001b[0m \u001b[0mtfonnx\u001b[0m\u001b[0;34m,\u001b[0m \u001b[0mutils\u001b[0m\u001b[0;34m,\u001b[0m \u001b[0mgraph\u001b[0m\u001b[0;34m,\u001b[0m \u001b[0mgraph_builder\u001b[0m\u001b[0;34m,\u001b[0m \u001b[0mgraph_matcher\u001b[0m\u001b[0;34m,\u001b[0m \u001b[0mshape_inference\u001b[0m\u001b[0;34m,\u001b[0m \u001b[0mschemas\u001b[0m\u001b[0;34m,\u001b[0m \u001b[0mconvert\u001b[0m  \u001b[0;31m# pylint: disable=wrong-import-order\u001b[0m\u001b[0;34m\u001b[0m\u001b[0;34m\u001b[0m\u001b[0m\n\u001b[0m\u001b[1;32m     16\u001b[0m \u001b[0;31m#from tf2onnx import tf_utils, tf_loader\u001b[0m\u001b[0;34m\u001b[0m\u001b[0;34m\u001b[0m\u001b[0m\n",
                        "\u001b[0;32m/usr/local/lib/python3.12/dist-packages/tf2onnx/tfonnx.py\u001b[0m in \u001b[0;36m<module>\u001b[0;34m\u001b[0m\n\u001b[1;32m     18\u001b[0m \u001b[0;34m\u001b[0m\u001b[0m\n\u001b[1;32m     19\u001b[0m \u001b[0;32mimport\u001b[0m \u001b[0mtf2onnx\u001b[0m\u001b[0;34m\u001b[0m\u001b[0;34m\u001b[0m\u001b[0m\n\u001b[0;32m---> 20\u001b[0;31m \u001b[0;32mimport\u001b[0m \u001b[0mtf2onnx\u001b[0m\u001b[0;34m.\u001b[0m\u001b[0monnx_opset\u001b[0m  \u001b[0;31m# pylint: disable=unused-import\u001b[0m\u001b[0;34m\u001b[0m\u001b[0;34m\u001b[0m\u001b[0m\n\u001b[0m\u001b[1;32m     21\u001b[0m \u001b[0;32mimport\u001b[0m \u001b[0mtf2onnx\u001b[0m\u001b[0;34m.\u001b[0m\u001b[0mtflite_handlers\u001b[0m  \u001b[0;31m# pylint: disable=unused-import\u001b[0m\u001b[0;34m\u001b[0m\u001b[0;34m\u001b[0m\u001b[0m\n\u001b[1;32m     22\u001b[0m \u001b[0;32mimport\u001b[0m \u001b[0mtf2onnx\u001b[0m\u001b[0;34m.\u001b[0m\u001b[0mcustom_opsets\u001b[0m  \u001b[0;31m# pylint: disable=unused-import\u001b[0m\u001b[0;34m\u001b[0m\u001b[0;34m\u001b[0m\u001b[0m\n",
                        "\u001b[0;32m/usr/local/lib/python3.12/dist-packages/tf2onnx/onnx_opset/__init__.py\u001b[0m in \u001b[0;36m<module>\u001b[0;34m\u001b[0m\n\u001b[1;32m      3\u001b[0m \u001b[0;34m\"\"\"tf2onnx.onnx_opset module\"\"\"\u001b[0m\u001b[0;34m\u001b[0m\u001b[0;34m\u001b[0m\u001b[0m\n\u001b[1;32m      4\u001b[0m \u001b[0;34m\u001b[0m\u001b[0m\n\u001b[0;32m----> 5\u001b[0;31m from . import (\n\u001b[0m\u001b[1;32m      6\u001b[0m     \u001b[0mcommon\u001b[0m\u001b[0;34m,\u001b[0m\u001b[0;34m\u001b[0m\u001b[0;34m\u001b[0m\u001b[0m\n\u001b[1;32m      7\u001b[0m     \u001b[0mcontrolflow\u001b[0m\u001b[0;34m,\u001b[0m\u001b[0;34m\u001b[0m\u001b[0;34m\u001b[0m\u001b[0m\n",
                        "\u001b[0;32m/usr/local/lib/python3.12/dist-packages/tf2onnx/onnx_opset/controlflow.py\u001b[0m in \u001b[0;36m<module>\u001b[0;34m\u001b[0m\n\u001b[1;32m     17\u001b[0m \u001b[0;32mfrom\u001b[0m \u001b[0monnx\u001b[0m \u001b[0;32mimport\u001b[0m \u001b[0monnx_pb\u001b[0m\u001b[0;34m\u001b[0m\u001b[0;34m\u001b[0m\u001b[0m\n\u001b[1;32m     18\u001b[0m \u001b[0;32mfrom\u001b[0m \u001b[0monnx\u001b[0m\u001b[0;34m.\u001b[0m\u001b[0monnx_pb\u001b[0m \u001b[0;32mimport\u001b[0m \u001b[0mTensorProto\u001b[0m\u001b[0;34m\u001b[0m\u001b[0;34m\u001b[0m\u001b[0m\n\u001b[0;32m---> 19\u001b[0;31m \u001b[0;32mfrom\u001b[0m \u001b[0mtf2onnx\u001b[0m \u001b[0;32mimport\u001b[0m \u001b[0mutils\u001b[0m\u001b[0;34m\u001b[0m\u001b[0;34m\u001b[0m\u001b[0m\n\u001b[0m\u001b[1;32m     20\u001b[0m \u001b[0;32mfrom\u001b[0m \u001b[0mtf2onnx\u001b[0m\u001b[0;34m.\u001b[0m\u001b[0mhandler\u001b[0m \u001b[0;32mimport\u001b[0m \u001b[0mtf_op\u001b[0m\u001b[0;34m\u001b[0m\u001b[0;34m\u001b[0m\u001b[0m\n\u001b[1;32m     21\u001b[0m \u001b[0;32mfrom\u001b[0m \u001b[0mtf2onnx\u001b[0m\u001b[0;34m.\u001b[0m\u001b[0mtf_loader\u001b[0m \u001b[0;32mimport\u001b[0m \u001b[0mfind_function\u001b[0m\u001b[0;34m\u001b[0m\u001b[0;34m\u001b[0m\u001b[0m\n",
                        "\u001b[0;32m/usr/local/lib/python3.12/dist-packages/tf2onnx/utils.py\u001b[0m in \u001b[0;36m<module>\u001b[0;34m\u001b[0m\n\u001b[1;32m     47\u001b[0m     \u001b[0monnx_pb\u001b[0m\u001b[0;34m.\u001b[0m\u001b[0mTensorProto\u001b[0m\u001b[0;34m.\u001b[0m\u001b[0mCOMPLEX64\u001b[0m\u001b[0;34m:\u001b[0m \u001b[0mnp\u001b[0m\u001b[0;34m.\u001b[0m\u001b[0mcomplex64\u001b[0m\u001b[0;34m,\u001b[0m\u001b[0;34m\u001b[0m\u001b[0;34m\u001b[0m\u001b[0m\n\u001b[1;32m     48\u001b[0m     \u001b[0monnx_pb\u001b[0m\u001b[0;34m.\u001b[0m\u001b[0mTensorProto\u001b[0m\u001b[0;34m.\u001b[0m\u001b[0mCOMPLEX128\u001b[0m\u001b[0;34m:\u001b[0m \u001b[0mnp\u001b[0m\u001b[0;34m.\u001b[0m\u001b[0mcomplex128\u001b[0m\u001b[0;34m,\u001b[0m\u001b[0;34m\u001b[0m\u001b[0;34m\u001b[0m\u001b[0m\n\u001b[0;32m---> 49\u001b[0;31m     \u001b[0monnx_pb\u001b[0m\u001b[0;34m.\u001b[0m\u001b[0mTensorProto\u001b[0m\u001b[0;34m.\u001b[0m\u001b[0mSTRING\u001b[0m\u001b[0;34m:\u001b[0m \u001b[0mnp\u001b[0m\u001b[0;34m.\u001b[0m\u001b[0mobject\u001b[0m\u001b[0;34m,\u001b[0m\u001b[0;34m\u001b[0m\u001b[0;34m\u001b[0m\u001b[0m\n\u001b[0m\u001b[1;32m     50\u001b[0m }\n\u001b[1;32m     51\u001b[0m \u001b[0;34m\u001b[0m\u001b[0m\n",
                        "\u001b[0;32m/usr/local/lib/python3.12/dist-packages/numpy/__init__.py\u001b[0m in \u001b[0;36m__getattr__\u001b[0;34m(attr)\u001b[0m\n\u001b[1;32m    392\u001b[0m \u001b[0;34m\u001b[0m\u001b[0m\n\u001b[1;32m    393\u001b[0m         \u001b[0;32mif\u001b[0m \u001b[0mattr\u001b[0m \u001b[0;32min\u001b[0m \u001b[0m__former_attrs__\u001b[0m\u001b[0;34m:\u001b[0m\u001b[0;34m\u001b[0m\u001b[0;34m\u001b[0m\u001b[0m\n\u001b[0;32m--> 394\u001b[0;31m             \u001b[0;32mraise\u001b[0m \u001b[0mAttributeError\u001b[0m\u001b[0;34m(\u001b[0m\u001b[0m__former_attrs__\u001b[0m\u001b[0;34m[\u001b[0m\u001b[0mattr\u001b[0m\u001b[0;34m]\u001b[0m\u001b[0;34m)\u001b[0m\u001b[0;34m\u001b[0m\u001b[0;34m\u001b[0m\u001b[0m\n\u001b[0m\u001b[1;32m    395\u001b[0m \u001b[0;34m\u001b[0m\u001b[0m\n\u001b[1;32m    396\u001b[0m         \u001b[0;32mif\u001b[0m \u001b[0mattr\u001b[0m \u001b[0;32min\u001b[0m \u001b[0m__expired_attributes__\u001b[0m\u001b[0;34m:\u001b[0m\u001b[0;34m\u001b[0m\u001b[0;34m\u001b[0m\u001b[0m\n",
                        "\u001b[0;31mAttributeError\u001b[0m: module 'numpy' has no attribute 'object'.\n`np.object` was a deprecated alias for the builtin `object`. To avoid this error in existing code, use `object` by itself. Doing this will not modify any behavior and is safe. \nThe aliases was originally deprecated in NumPy 1.20; for more details and guidance see the original release note at:\n    https://numpy.org/devdocs/release/1.20.0-notes.html#deprecations"
                    ]
                }
            ],
            "source": [
                "import os\n",
                "import numpy as np\n",
                "import matplotlib.pyplot as plt\n",
                "from czmodel.pytorch.convert import DefaultConverter\n",
                "import tempfile\n",
                "from pathlib import Path\n",
                "import onnxruntime as onnx_rt\n",
                "from skimage.io import imread\n",
                "import random"
            ]
        },
        {
            "cell_type": "code",
            "execution_count": null,
            "metadata": {
                "id": "-IgMB1Ya462j"
            },
            "outputs": [],
            "source": [
                "# Folder containing the input images\n",
                "IMAGES_FOLDER = \"nucleus_data/images/\"\n",
                "\n",
                "# Folder containing the ground truth regression labels\n",
                "# Regression labels contain a real number for each pixel\n",
                "MASKS_FOLDER = \"nucleus_data/labels/\"\n",
                "\n",
                "# Path to the data on GitHub\n",
                "GITHUB_IMAGES_PATH = \"https://raw.githubusercontent.com/sebi06/ZEN_Python_CZI_Smart_Microscopy_Workshop/main/workshop/notebooks/nucleus_data.zip\"\n",
                "\n",
                "# Path to the tools folder on Github\n",
                "modelname = \"cyto2022_nuc2.czann\"\n",
                "CZANN_PATH = r\"https://raw.githubusercontent.com/sebi06/ZEN_Python_CZI_Smart_Microscopy_Workshop/main/workshop/notebooks/models/\" + modelname\n",
                "\n",
                "czann_filepath = os.path.join(os.getcwd(), modelname)"
            ]
        },
        {
            "cell_type": "markdown",
            "metadata": {
                "id": "5bJNvdRa462j"
            },
            "source": [
                "### Download data if it's not available on disk\n",
                "\n",
                "If this notebook is run e.g. as a colab notebook, it does not have access to the data folder on gitub via disk access. In that case we need to download the data from github first."
            ]
        },
        {
            "cell_type": "code",
            "execution_count": null,
            "metadata": {
                "id": "rJ4YfL21462k"
            },
            "outputs": [],
            "source": [
                "import requests\n",
                "\n",
                "# Download training data\n",
                "if not (os.path.isdir(IMAGES_FOLDER) and os.path.isdir(MASKS_FOLDER)):\n",
                "    compressed_data = './nucleus_data.zip'\n",
                "    if not os.path.isfile(compressed_data):\n",
                "        import io\n",
                "        response = requests.get(GITHUB_IMAGES_PATH, stream=True)\n",
                "        compressed_data = io.BytesIO(response.content)\n",
                "\n",
                "    import zipfile\n",
                "    with zipfile.ZipFile(compressed_data, 'r') as zip_accessor:\n",
                "        zip_accessor.extractall('./')\n",
                "\n",
                "# Download czann file.py\n",
                "if not os.path.isfile(modelname):\n",
                "    response = requests.get(CZANN_PATH, stream=True)\n",
                "    with open(modelname, 'wb') as handle:\n",
                "        handle.write(response.content)\n",
                "\n",
                "print(f\"CZANN FilePath: {czann_filepath}\")\n",
                "print(f\"CZANN exists: {os.path.exists(czann_filepath)}\")"
            ]
        },
        {
            "cell_type": "code",
            "execution_count": null,
            "metadata": {
                "id": "6aHMT9Sn462l"
            },
            "outputs": [],
            "source": [
                "# get the sample images\n",
                "sample_images = sorted([os.path.join(IMAGES_FOLDER, f) for f in os.listdir(IMAGES_FOLDER)\n",
                "                        if os.path.isfile(os.path.join(IMAGES_FOLDER, f))])\n",
                "\n",
                "# get the masks\n",
                "sample_masks = sorted([os.path.join(MASKS_FOLDER, f) for f in os.listdir(MASKS_FOLDER)\n",
                "                       if os.path.isfile(os.path.join(MASKS_FOLDER, f))])"
            ]
        },
        {
            "cell_type": "code",
            "execution_count": null,
            "metadata": {
                "id": "Lr4uRjfuFrjG"
            },
            "outputs": [],
            "source": [
                "def predict_one(sess: onnx_rt.InferenceSession, batch_elem: np.ndarray) -> np.ndarray:\n",
                "    \"\"\"Predicts with a batch size of 1 to not risk memory issues.\n",
                "\n",
                "    Arguments:\n",
                "        sess: The inference session containing the loaded model.\n",
                "        batch_elem: One element of a batch to be used for prediction.\n",
                "\n",
                "    Returns:\n",
                "        The prediction for the provided batch element.\n",
                "    \"\"\"\n",
                "    batch_elem = batch_elem[np.newaxis]\n",
                "    input_name = sess.get_inputs()[0].name\n",
                "    output_name = sess.get_outputs()[0].name\n",
                "\n",
                "    # ONNX can only handle float32\n",
                "    batch_elem = batch_elem.astype(np.float32)\n",
                "    input_dict = {input_name: batch_elem}\n",
                "    result = sess.run([output_name], input_dict)[0]\n",
                "\n",
                "    return result[0]"
            ]
        },
        {
            "cell_type": "code",
            "execution_count": null,
            "metadata": {
                "id": "6Qhz6lsqATba"
            },
            "outputs": [],
            "source": [
                "# extract the model information and path and to the prediction\n",
                "with tempfile.TemporaryDirectory() as temp_path:\n",
                "\n",
                "    # get the model metadata and the path\n",
                "    model_metadata, model_path = DefaultConverter().unpack_model(model_file=czann_filepath,\n",
                "                                                                 target_dir=Path(temp_path))\n",
                "\n",
                "    # get model metadata as dictionary\n",
                "    model_metadata_dict = model_metadata._asdict()\n",
                "    for k,v in model_metadata_dict.items():\n",
                "        print(k, \"=\", v)\n",
                "\n",
                "    # get the input shape\n",
                "    shp = model_metadata.input_shape\n",
                "\n",
                "    # create an ONNX session and get the input shape\n",
                "    # use either \"CUDAExecutionProvider\" or \"CPUExecutionProvider\"]\n",
                "    #sess = onnx_rt.InferenceSession(str(model_path), providers=[\"CPUExecutionProvider\"])\n",
                "    sess = onnx_rt.InferenceSession(str(model_path), providers=[(\"CUDAExecutionProvider\", {\"cudnn_conv_algo_search\": \"DEFAULT\"})])"
            ]
        },
        {
            "cell_type": "code",
            "execution_count": null,
            "metadata": {
                "id": "K3IFtkdlTKsT"
            },
            "outputs": [],
            "source": [
                "# just re-execute the cell to display a different image\n",
                "from skimage.io import imread\n",
                "\n",
                "# select an a random image\n",
                "id = random.randint(0, len(sample_images))\n",
                "\n",
                "# read images and scale\n",
                "img = imread(sample_images[id])/(2**16 - 1)\n",
                "mask = imread(sample_masks[id])\n",
                "\n",
                "# cut input to fit the model\n",
                "img = img[0: shp[0], 0:shp[1]]\n",
                "mask = mask[0: shp[0], 0:shp[1]]\n",
                "\n",
                "# run the actual prediction\n",
                "pred = predict_one(sess, img[..., np.newaxis])\n",
                "\n",
                "fig, (ax1, ax2, ax3) = plt.subplots(1, 3)\n",
                "fig.set_figwidth(16)\n",
                "\n",
                "# show images and set titles\n",
                "ax1.imshow(img, vmin=0, vmax=0.05)\n",
                "ax2.imshow(pred[..., 1], cmap=\"gray\")\n",
                "ax3.imshow(mask)\n",
                "\n",
                "ax1.set_title('Image')\n",
                "ax2.set_title('Prediction')\n",
                "ax3.set_title('Label Mask')"
            ]
        }
    ],
    "metadata": {
        "accelerator": "GPU",
        "colab": {
            "name": "run_prediction_from_czann.ipynb",
            "provenance": []
        },
        "kernelspec": {
            "display_name": "smartmic",
            "language": "python",
            "name": "python3"
        },
        "language_info": {
            "codemirror_mode": {
                "name": "ipython",
                "version": 3
            },
            "file_extension": ".py",
            "mimetype": "text/x-python",
            "name": "python",
            "nbconvert_exporter": "python",
            "pygments_lexer": "ipython3",
            "version": "3.11.13"
        }
    },
    "nbformat": 4,
    "nbformat_minor": 0
}